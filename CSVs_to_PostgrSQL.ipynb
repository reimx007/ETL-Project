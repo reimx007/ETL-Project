{
 "cells": [
  {
   "cell_type": "code",
   "execution_count": null,
   "metadata": {},
   "outputs": [],
   "source": [
    "import pandas as pd\n",
    "from sqlalchemy import create_engine"
   ]
  },
  {
   "cell_type": "code",
   "execution_count": null,
   "metadata": {},
   "outputs": [],
   "source": [
    "# load accident csv, convert to df, set index, set columns to lowercase\n",
    "accident_file = \"Resources/ca_accidents.csv\"\n",
    "accident_df= pd.read_csv(accident_file, index_col=0)\n",
    "accident_df.reset_index(drop=True)\n",
    "accident_df[\"id\"] = accident_df.index\n",
    "accident_df.set_index(\"id\", inplace=True)\n",
    "accident_df = accident_df.rename(columns={\"County\": \"county\",\n",
    "                                     \"Crash_count\": \"crash_count\"})\n",
    "accident_df.head()"
   ]
  },
  {
   "cell_type": "code",
   "execution_count": null,
   "metadata": {},
   "outputs": [],
   "source": [
    "# load income csv, convert to df, set index, set columns to lowercase\n",
    "income_file = \"Resources/cleaned_income.csv\"\n",
    "income_df = pd.read_csv(income_file, index_col=0)\n",
    "income_df.set_index(\"id\", inplace=True)\n",
    "income_df = income_df.rename(columns={\"med_HHI\": \"med_hhi\"})\n",
    "income_df.head()"
   ]
  },
  {
   "cell_type": "code",
   "execution_count": null,
   "metadata": {},
   "outputs": [],
   "source": [
    "# load crime csv, convert to df, set index, set columns to lowercase\n",
    "crime_file = \"Resources/cleaned_crime.csv\"\n",
    "crime_df = pd.read_csv(crime_file, index_col=0)\n",
    "crime_df[\"id\"] = crime_df.index\n",
    "crime_df.set_index(\"id\", inplace=True)\n",
    "crime_copied = crime_df.copy()\n",
    "crime_copied = crime_copied[['Year', 'Updated_County', 'VehicleTheft_sum', 'Violent_sum']]\n",
    "crime_copied.columns = ['year', 'updated_county', 'vehicletheft_sum', 'violent_sum']\n",
    "crime_copied.head()"
   ]
  },
  {
   "cell_type": "code",
   "execution_count": null,
   "metadata": {},
   "outputs": [],
   "source": [
    "# connect to postgres database\n",
    "rds_connection_string = \"postgres:postgres@localhost:5432/etl_project\"\n",
    "engine = create_engine(f'postgresql://{rds_connection_string}')\n",
    "engine.table_names()"
   ]
  },
  {
   "cell_type": "code",
   "execution_count": null,
   "metadata": {},
   "outputs": [],
   "source": [
    "# send accident df to postgres database\n",
    "accident_df.to_sql(name='accidents', con=engine, if_exists='append', index=True)"
   ]
  },
  {
   "cell_type": "code",
   "execution_count": null,
   "metadata": {},
   "outputs": [],
   "source": [
    "# send income df to postgres database\n",
    "income_df.to_sql(name='income', con=engine, if_exists='append', index=True)"
   ]
  },
  {
   "cell_type": "code",
   "execution_count": null,
   "metadata": {},
   "outputs": [],
   "source": [
    "# send crime df to postgres database\n",
    "crime_copied.to_sql(name='crime', con=engine, if_exists='append', index=True)"
   ]
  },
  {
   "cell_type": "code",
   "execution_count": null,
   "metadata": {},
   "outputs": [],
   "source": []
  },
  {
   "cell_type": "code",
   "execution_count": null,
   "metadata": {},
   "outputs": [],
   "source": []
  }
 ],
 "metadata": {
  "kernelspec": {
   "display_name": "PythonData",
   "language": "python",
   "name": "pythondata"
  },
  "language_info": {
   "codemirror_mode": {
    "name": "ipython",
    "version": 3
   },
   "file_extension": ".py",
   "mimetype": "text/x-python",
   "name": "python",
   "nbconvert_exporter": "python",
   "pygments_lexer": "ipython3",
   "version": "3.7.6"
  }
 },
 "nbformat": 4,
 "nbformat_minor": 4
}
