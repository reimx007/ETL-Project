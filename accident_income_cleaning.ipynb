{
 "cells": [
  {
   "cell_type": "code",
   "execution_count": null,
   "metadata": {},
   "outputs": [],
   "source": [
    "import pandas as pd\n",
    "from sqlalchemy import create_engine\n",
    "import datetime as dt"
   ]
  },
  {
   "cell_type": "code",
   "execution_count": null,
   "metadata": {},
   "outputs": [],
   "source": [
    "# import original accident file\n",
    "accident_file = \"../US_Accidents_Dec19.csv\"\n",
    "accident_df = pd.read_csv(accident_file)\n",
    "accident_df.head()"
   ]
  },
  {
   "cell_type": "code",
   "execution_count": null,
   "metadata": {},
   "outputs": [],
   "source": [
    "# filter down to just CA crashes, save off this smaller file in repo\n",
    "ca_df = accident_df.loc[accident_df['State'] == \"CA\"]\n",
    "\n",
    "ca_df.head()"
   ]
  },
  {
   "cell_type": "code",
   "execution_count": null,
   "metadata": {},
   "outputs": [],
   "source": [
    "# filter to include just the crashes between 2016 and 2018\n",
    "ca_df['Date']= pd.to_datetime(ca_df['Start_Time']) \n",
    "mask = (ca_df['Date'] > '2016-01-01 00:00:01') & (ca_df['Date'] <= '2018-12-31 23:59:01')\n",
    "ca_df = ca_df.loc[mask]\n",
    "\n",
    "# Create a filtered dataframe from specific columns\n",
    "ca_cols = [\"ID\", \"Start_Time\", \"End_Time\", \"Description\", \"County\" ]\n",
    "ca_df= ca_df[ca_cols].copy()\n",
    "ca_df.to_csv(\"resources/ca_accidents.csv\")\n",
    "ca_df.head()"
   ]
  },
  {
   "cell_type": "code",
   "execution_count": null,
   "metadata": {},
   "outputs": [],
   "source": [
    "#################################################\n",
    "# import and clean income data from census bureau data finder\n",
    "#################################################\n",
    "income_file = \"resources/household_income.csv\"\n",
    "income_df = pd.read_csv(income_file)\n",
    "income_cols = ['Geographic Area Name', 'Estimate!!Households!!Median income (dollars)' ]\n",
    "income_df= income_df[income_cols].copy()\n",
    "income_df['New_name'] = income_df[\"Geographic Area Name\"].str[:-19]\n",
    "income_df[\"id\"] = income_df.index\n",
    "income_df = income_df.rename(columns={\"Geographic Area Name\": \"full_name\",\n",
    "                                     \"Estimate!!Households!!Median income (dollars)\": \"med_HHI\",\n",
    "                                     \"New_name\": \"county\"})\n",
    "income_df.to_csv(\"resources/cleaned_income.csv\")\n",
    "income_df.head()"
   ]
  },
  {
   "cell_type": "code",
   "execution_count": null,
   "metadata": {},
   "outputs": [],
   "source": []
  }
 ],
 "metadata": {
  "kernelspec": {
   "display_name": "PythonData",
   "language": "python",
   "name": "pythondata"
  },
  "language_info": {
   "codemirror_mode": {
    "name": "ipython",
    "version": 3
   },
   "file_extension": ".py",
   "mimetype": "text/x-python",
   "name": "python",
   "nbconvert_exporter": "python",
   "pygments_lexer": "ipython3",
   "version": "3.7.6"
  }
 },
 "nbformat": 4,
 "nbformat_minor": 4
}
